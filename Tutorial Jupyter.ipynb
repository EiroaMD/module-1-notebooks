{
 "cells": [
  {
   "cell_type": "markdown",
   "metadata": {},
   "source": [
    "# Elia's dream destination"
   ]
  },
  {
   "cell_type": "markdown",
   "metadata": {},
   "source": [
    "## About Elia \n",
    "![Elia's Face](https://media.licdn.com/dms/image/C5603AQF79pu_prvwCw/profile-displayphoto-shrink_800_800/0?e=1565827200&v=beta&t=Yf2Z8z5dN7i9T-8454U2xXdn9Hjl3CiRbO1K9yKjc2w)\n",
    "**Elia is a UI/UX designer, illustrator and musician. She's always been passionate about technology and self-taught in other areas. She's lately taken off a career as a designer. She loves Japan and all things related with the japanese culture and she's been planning a trip to Japan for a while.**\n",
    "\n",
    "\n",
    "\n",
    "## Nice places to go in Tokyo\n",
    "![Tokyo](https://images.unsplash.com/photo-1536098561742-ca998e48cbcc?ixlib=rb-1.2.1&ixid=eyJhcHBfaWQiOjEyMDd9&auto=format&fit=crop&w=762&q=80)\n",
    "\n",
    "\n",
    "\n",
    "## A taste of Japan's musical culture\n",
    "[![Makudonarudo](https://images.genius.com/ffa238679b378db07074dc1592e4c868.1000x563x1.jpg)](https://www.google.com/url?sa=t&rct=j&q=&esrc=s&source=web&cd=1&cad=rja&uact=8&ved=2ahUKEwjun93D_-HiAhUuDWMBHcuVD1gQ3ywwAHoECAoQBA&url=https%3A%2F%2Fwww.youtube.com%2Fwatch%3Fv%3DzhGnuWwpNxI&usg=AOvVaw1WCJtv_RmNdTOC2hHiV0sd)"
   ]
  },
  {
   "cell_type": "code",
   "execution_count": 1,
   "metadata": {},
   "outputs": [
    {
     "name": "stdout",
     "output_type": "stream",
     "text": [
      "Please enter your name:Dani\n",
      "Hello Dani\n"
     ]
    }
   ],
   "source": [
    "def name():\n",
    "    yourname = input(\"Please enter your name:\")\n",
    "    print(\"Hello\", yourname)\n",
    "name()"
   ]
  },
  {
   "cell_type": "markdown",
   "metadata": {},
   "source": [
    "### The person under this line is me  ![Emoji](https://github.githubassets.com/images/icons/emoji/unicode/1f607.png)\n",
    "![Dani's face](https://media.licdn.com/dms/image/C5603AQGPcs9jC_l40A/profile-displayphoto-shrink_200_200/0?e=1565827200&v=beta&t=5qU5nkyGDHkvyqOI07xkOQs1SInY98-60RhyC2_OhEY)"
   ]
  },
  {
   "cell_type": "code",
   "execution_count": 2,
   "metadata": {},
   "outputs": [
    {
     "name": "stdout",
     "output_type": "stream",
     "text": [
      "Where in the world would you like to go?Mexico\n"
     ]
    }
   ],
   "source": [
    "def holiday():\n",
    "    input(\"Where in the world would you like to go?\")\n",
    "holiday()"
   ]
  },
  {
   "cell_type": "markdown",
   "metadata": {},
   "source": [
    "# Mexico"
   ]
  },
  {
   "cell_type": "markdown",
   "metadata": {},
   "source": [
    "![Mexico](https://images.unsplash.com/photo-1508642207-7048c482ba7e?ixlib=rb-1.2.1&ixid=eyJhcHBfaWQiOjEyMDd9&auto=format&fit=crop&w=1036&q=80)"
   ]
  },
  {
   "cell_type": "markdown",
   "metadata": {},
   "source": [
    "[![Mexico](http://static.wixstatic.com/media/3c0de2_15daaf71b0414132bee0976d0c553ace.gif)](https://www.youtube.com/watch?v=O7VErealQzo)"
   ]
  }
 ],
 "metadata": {
  "language_info": {
   "codemirror_mode": {
    "name": "ipython",
    "version": 3
   },
   "file_extension": ".py",
   "mimetype": "text/x-python",
   "name": "python",
   "nbconvert_exporter": "python",
   "pygments_lexer": "ipython3",
   "version": "3.6.7"
  }
 },
 "nbformat": 4,
 "nbformat_minor": 2
}
