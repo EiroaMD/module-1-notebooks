{
 "cells": [
  {
   "cell_type": "code",
   "execution_count": 1,
   "metadata": {},
   "outputs": [],
   "source": [
    "import jupyter_dashboards"
   ]
  },
  {
   "cell_type": "code",
   "execution_count": 2,
   "metadata": {},
   "outputs": [],
   "source": [
    "import ipywidgets as widgets"
   ]
  },
  {
   "cell_type": "code",
   "execution_count": 3,
   "metadata": {},
   "outputs": [],
   "source": [
    "import os"
   ]
  },
  {
   "cell_type": "code",
   "execution_count": 4,
   "metadata": {},
   "outputs": [],
   "source": [
    "from IPython.display import display\n",
    "import pandas as pd\n",
    "import numpy as np"
   ]
  },
  {
   "cell_type": "code",
   "execution_count": 29,
   "metadata": {},
   "outputs": [
    {
     "name": "stdout",
     "output_type": "stream",
     "text": [
      "/bin/sh: 1: pip: not found\n",
      "Installing /home/eiroamd/.local/lib/python3.6/site-packages/jupyter_dashboards/nbextension -> jupyter_dashboards\n",
      "Traceback (most recent call last):\n",
      "  File \"/home/eiroamd/.local/bin/jupyter-dashboards\", line 11, in <module>\n",
      "    sys.exit(main())\n",
      "  File \"/home/eiroamd/.local/lib/python3.6/site-packages/jupyter_dashboards/extensionapp.py\", line 203, in main\n",
      "    ExtensionApp.launch_instance()\n",
      "  File \"/home/eiroamd/.local/lib/python3.6/site-packages/traitlets/config/application.py\", line 658, in launch_instance\n",
      "    app.start()\n",
      "  File \"/home/eiroamd/.local/lib/python3.6/site-packages/jupyter_dashboards/extensionapp.py\", line 199, in start\n",
      "    super(ExtensionApp, self).start()\n",
      "  File \"/home/eiroamd/.local/lib/python3.6/site-packages/traitlets/config/application.py\", line 305, in start\n",
      "    return self.subapp.start()\n",
      "  File \"/home/eiroamd/.local/lib/python3.6/site-packages/jupyter_dashboards/extensionapp.py\", line 122, in start\n",
      "    install.start()\n",
      "  File \"/home/eiroamd/.local/lib/python3.6/site-packages/notebook/nbextensions.py\", line 716, in start\n",
      "    self.install_extensions()\n",
      "  File \"/home/eiroamd/.local/lib/python3.6/site-packages/notebook/nbextensions.py\", line 695, in install_extensions\n",
      "    **kwargs\n",
      "  File \"/home/eiroamd/.local/lib/python3.6/site-packages/notebook/nbextensions.py\", line 225, in install_nbextension_python\n",
      "    destination=dest, logger=logger\n",
      "  File \"/home/eiroamd/.local/lib/python3.6/site-packages/notebook/nbextensions.py\", line 126, in install_nbextension\n",
      "    ensure_dir_exists(nbext)\n",
      "  File \"/home/eiroamd/.local/lib/python3.6/site-packages/jupyter_core/utils/__init__.py\", line 13, in ensure_dir_exists\n",
      "    os.makedirs(path, mode=mode)\n",
      "  File \"/usr/lib/python3.6/os.py\", line 210, in makedirs\n",
      "    makedirs(head, mode, exist_ok)\n",
      "  File \"/usr/lib/python3.6/os.py\", line 220, in makedirs\n",
      "    mkdir(name, mode)\n",
      "PermissionError: [Errno 13] Permission denied: '/usr/share/jupyter'\n"
     ]
    }
   ],
   "source": [
    "! pip install jupyter_dashboards\n",
    "! jupyter dashboards quick-setup --sys-prefix"
   ]
  },
  {
   "cell_type": "code",
   "execution_count": 5,
   "metadata": {},
   "outputs": [
    {
     "name": "stdout",
     "output_type": "stream",
     "text": [
      "Enabling notebook extension jupyter-js-widgets/extension...\r\n",
      "      - Validating: \u001b[32mOK\u001b[0m\r\n"
     ]
    }
   ],
   "source": [
    "! jupyter nbextension enable --py widgetsnbextension"
   ]
  },
  {
   "cell_type": "code",
   "execution_count": 6,
   "metadata": {},
   "outputs": [],
   "source": [
    "os.environ[\"GOOGLE_APPLICATION_CREDENTIALS\"]=\"/home/eiroamd/Documents/IH/Ironhack Data Analytics.json\""
   ]
  },
  {
   "cell_type": "code",
   "execution_count": 7,
   "metadata": {},
   "outputs": [],
   "source": [
    "from google.cloud import bigquery\n",
    "\n",
    "client = bigquery.Client()"
   ]
  },
  {
   "cell_type": "code",
   "execution_count": 8,
   "metadata": {},
   "outputs": [
    {
     "data": {
      "application/vnd.jupyter.widget-view+json": {
       "model_id": "739d2165c2ea438b8718336ec6dd9691",
       "version_major": 2,
       "version_minor": 0
      },
      "text/plain": [
       "IntSlider(value=3, description='Slider', max=10)"
      ]
     },
     "metadata": {},
     "output_type": "display_data"
    }
   ],
   "source": [
    "widgets.IntSlider(\n",
    "    min = 0,\n",
    "    max = 10,\n",
    "    step = 1,\n",
    "    description='Slider',\n",
    "    value = 3\n",
    ")"
   ]
  },
  {
   "cell_type": "markdown",
   "metadata": {},
   "source": [
    "Crear botón:"
   ]
  },
  {
   "cell_type": "code",
   "execution_count": 26,
   "metadata": {},
   "outputs": [],
   "source": [
    "btn = widgets.Button(description = 'Medium')"
   ]
  },
  {
   "cell_type": "code",
   "execution_count": 27,
   "metadata": {},
   "outputs": [
    {
     "data": {
      "application/vnd.jupyter.widget-view+json": {
       "model_id": "725bb3bb15914fa690d653c3558ef77c",
       "version_major": 2,
       "version_minor": 0
      },
      "text/plain": [
       "Button(description='Medium', style=ButtonStyle())"
      ]
     },
     "metadata": {},
     "output_type": "display_data"
    }
   ],
   "source": [
    "display(btn)"
   ]
  },
  {
   "cell_type": "markdown",
   "metadata": {},
   "source": [
    "Para darle función al botón:"
   ]
  },
  {
   "cell_type": "code",
   "execution_count": 25,
   "metadata": {},
   "outputs": [],
   "source": [
    "def btn_eventhandler(obj):\n",
    "    print('Hello from the {} button!'.format(obj.description))\n",
    "\n",
    "btn.on_click(btn_eventhandler)"
   ]
  },
  {
   "cell_type": "markdown",
   "metadata": {},
   "source": [
    "Hacer query:"
   ]
  },
  {
   "cell_type": "code",
   "execution_count": 12,
   "metadata": {},
   "outputs": [],
   "source": [
    "query1 = \"\"\"\n",
    "SELECT\n",
    "  end_station_name,\n",
    "  usertype,\n",
    "  gender,\n",
    "  COUNT(*) as total_trips,\n",
    "  AVG(tripduration) as avg_duration\n",
    "FROM\n",
    "    `bigquery-public-data.new_york_citibike.citibike_trips`\n",
    "GROUP BY\n",
    "  end_station_name,\n",
    "  usertype,\n",
    "  gender\n",
    "HAVING\n",
    "  total_trips > 20000\n",
    "\"\"\""
   ]
  },
  {
   "cell_type": "code",
   "execution_count": 13,
   "metadata": {},
   "outputs": [
    {
     "data": {
      "text/html": [
       "<div>\n",
       "<style scoped>\n",
       "    .dataframe tbody tr th:only-of-type {\n",
       "        vertical-align: middle;\n",
       "    }\n",
       "\n",
       "    .dataframe tbody tr th {\n",
       "        vertical-align: top;\n",
       "    }\n",
       "\n",
       "    .dataframe thead th {\n",
       "        text-align: right;\n",
       "    }\n",
       "</style>\n",
       "<table border=\"1\" class=\"dataframe\">\n",
       "  <thead>\n",
       "    <tr style=\"text-align: right;\">\n",
       "      <th></th>\n",
       "      <th>end_station_name</th>\n",
       "      <th>usertype</th>\n",
       "      <th>gender</th>\n",
       "      <th>total_trips</th>\n",
       "      <th>avg_duration</th>\n",
       "    </tr>\n",
       "  </thead>\n",
       "  <tbody>\n",
       "    <tr>\n",
       "      <th>0</th>\n",
       "      <td>Pershing Square North</td>\n",
       "      <td>Subscriber</td>\n",
       "      <td>male</td>\n",
       "      <td>346683</td>\n",
       "      <td>727.332716</td>\n",
       "    </tr>\n",
       "    <tr>\n",
       "      <th>1</th>\n",
       "      <td>Washington St &amp; Gansevoort St</td>\n",
       "      <td>Subscriber</td>\n",
       "      <td>male</td>\n",
       "      <td>107859</td>\n",
       "      <td>812.164140</td>\n",
       "    </tr>\n",
       "    <tr>\n",
       "      <th>2</th>\n",
       "      <td>Grand Army Plaza &amp; Central Park S</td>\n",
       "      <td>Subscriber</td>\n",
       "      <td>male</td>\n",
       "      <td>120748</td>\n",
       "      <td>864.819856</td>\n",
       "    </tr>\n",
       "    <tr>\n",
       "      <th>3</th>\n",
       "      <td>Christopher St &amp; Greenwich St</td>\n",
       "      <td>Subscriber</td>\n",
       "      <td>male</td>\n",
       "      <td>192827</td>\n",
       "      <td>769.657392</td>\n",
       "    </tr>\n",
       "    <tr>\n",
       "      <th>4</th>\n",
       "      <td>Cooper Square &amp; E 7 St</td>\n",
       "      <td>Subscriber</td>\n",
       "      <td>male</td>\n",
       "      <td>51126</td>\n",
       "      <td>645.257912</td>\n",
       "    </tr>\n",
       "    <tr>\n",
       "      <th>5</th>\n",
       "      <td>Broadway &amp; E 14 St</td>\n",
       "      <td>Subscriber</td>\n",
       "      <td>male</td>\n",
       "      <td>232964</td>\n",
       "      <td>639.402680</td>\n",
       "    </tr>\n",
       "    <tr>\n",
       "      <th>6</th>\n",
       "      <td>W 17 St &amp; 8 Ave</td>\n",
       "      <td>Subscriber</td>\n",
       "      <td>male</td>\n",
       "      <td>145531</td>\n",
       "      <td>649.038494</td>\n",
       "    </tr>\n",
       "    <tr>\n",
       "      <th>7</th>\n",
       "      <td>W 26 St &amp; 8 Ave</td>\n",
       "      <td>Subscriber</td>\n",
       "      <td>female</td>\n",
       "      <td>46683</td>\n",
       "      <td>791.748709</td>\n",
       "    </tr>\n",
       "    <tr>\n",
       "      <th>8</th>\n",
       "      <td>Hicks St &amp; Montague St</td>\n",
       "      <td>Subscriber</td>\n",
       "      <td>male</td>\n",
       "      <td>39746</td>\n",
       "      <td>783.756906</td>\n",
       "    </tr>\n",
       "    <tr>\n",
       "      <th>9</th>\n",
       "      <td>Henry St &amp; Grand St</td>\n",
       "      <td>Subscriber</td>\n",
       "      <td>female</td>\n",
       "      <td>33229</td>\n",
       "      <td>799.331819</td>\n",
       "    </tr>\n",
       "    <tr>\n",
       "      <th>10</th>\n",
       "      <td>W 47 St &amp; 10 Ave</td>\n",
       "      <td>Subscriber</td>\n",
       "      <td>female</td>\n",
       "      <td>23533</td>\n",
       "      <td>928.893511</td>\n",
       "    </tr>\n",
       "    <tr>\n",
       "      <th>11</th>\n",
       "      <td>John St &amp; William St</td>\n",
       "      <td>Subscriber</td>\n",
       "      <td>female</td>\n",
       "      <td>21495</td>\n",
       "      <td>954.329146</td>\n",
       "    </tr>\n",
       "    <tr>\n",
       "      <th>12</th>\n",
       "      <td>Riverside Dr &amp; W 82 St</td>\n",
       "      <td>Subscriber</td>\n",
       "      <td>male</td>\n",
       "      <td>25339</td>\n",
       "      <td>1418.753305</td>\n",
       "    </tr>\n",
       "    <tr>\n",
       "      <th>13</th>\n",
       "      <td>W 41 St &amp; 8 Ave</td>\n",
       "      <td>Subscriber</td>\n",
       "      <td>male</td>\n",
       "      <td>265857</td>\n",
       "      <td>695.045408</td>\n",
       "    </tr>\n",
       "    <tr>\n",
       "      <th>14</th>\n",
       "      <td>Barclay St &amp; Church St</td>\n",
       "      <td>Subscriber</td>\n",
       "      <td>male</td>\n",
       "      <td>152265</td>\n",
       "      <td>738.429810</td>\n",
       "    </tr>\n",
       "    <tr>\n",
       "      <th>15</th>\n",
       "      <td>W 18 St &amp; 6 Ave</td>\n",
       "      <td>Subscriber</td>\n",
       "      <td>female</td>\n",
       "      <td>75088</td>\n",
       "      <td>714.998468</td>\n",
       "    </tr>\n",
       "    <tr>\n",
       "      <th>16</th>\n",
       "      <td>E 20 St &amp; FDR Drive</td>\n",
       "      <td>Subscriber</td>\n",
       "      <td>male</td>\n",
       "      <td>106537</td>\n",
       "      <td>748.216798</td>\n",
       "    </tr>\n",
       "    <tr>\n",
       "      <th>17</th>\n",
       "      <td>E 30 St &amp; Park Ave S</td>\n",
       "      <td>Subscriber</td>\n",
       "      <td>male</td>\n",
       "      <td>129530</td>\n",
       "      <td>655.245009</td>\n",
       "    </tr>\n",
       "    <tr>\n",
       "      <th>18</th>\n",
       "      <td>Lafayette Ave &amp; Classon Ave</td>\n",
       "      <td>Subscriber</td>\n",
       "      <td>male</td>\n",
       "      <td>21238</td>\n",
       "      <td>824.260571</td>\n",
       "    </tr>\n",
       "    <tr>\n",
       "      <th>19</th>\n",
       "      <td>Bialystoker Pl &amp; Delancey St</td>\n",
       "      <td>Subscriber</td>\n",
       "      <td>male</td>\n",
       "      <td>45887</td>\n",
       "      <td>951.236559</td>\n",
       "    </tr>\n",
       "  </tbody>\n",
       "</table>\n",
       "</div>"
      ],
      "text/plain": [
       "                     end_station_name    usertype  gender  total_trips  \\\n",
       "0               Pershing Square North  Subscriber    male       346683   \n",
       "1       Washington St & Gansevoort St  Subscriber    male       107859   \n",
       "2   Grand Army Plaza & Central Park S  Subscriber    male       120748   \n",
       "3       Christopher St & Greenwich St  Subscriber    male       192827   \n",
       "4              Cooper Square & E 7 St  Subscriber    male        51126   \n",
       "5                  Broadway & E 14 St  Subscriber    male       232964   \n",
       "6                     W 17 St & 8 Ave  Subscriber    male       145531   \n",
       "7                     W 26 St & 8 Ave  Subscriber  female        46683   \n",
       "8              Hicks St & Montague St  Subscriber    male        39746   \n",
       "9                 Henry St & Grand St  Subscriber  female        33229   \n",
       "10                   W 47 St & 10 Ave  Subscriber  female        23533   \n",
       "11               John St & William St  Subscriber  female        21495   \n",
       "12             Riverside Dr & W 82 St  Subscriber    male        25339   \n",
       "13                    W 41 St & 8 Ave  Subscriber    male       265857   \n",
       "14             Barclay St & Church St  Subscriber    male       152265   \n",
       "15                    W 18 St & 6 Ave  Subscriber  female        75088   \n",
       "16                E 20 St & FDR Drive  Subscriber    male       106537   \n",
       "17               E 30 St & Park Ave S  Subscriber    male       129530   \n",
       "18        Lafayette Ave & Classon Ave  Subscriber    male        21238   \n",
       "19       Bialystoker Pl & Delancey St  Subscriber    male        45887   \n",
       "\n",
       "    avg_duration  \n",
       "0     727.332716  \n",
       "1     812.164140  \n",
       "2     864.819856  \n",
       "3     769.657392  \n",
       "4     645.257912  \n",
       "5     639.402680  \n",
       "6     649.038494  \n",
       "7     791.748709  \n",
       "8     783.756906  \n",
       "9     799.331819  \n",
       "10    928.893511  \n",
       "11    954.329146  \n",
       "12   1418.753305  \n",
       "13    695.045408  \n",
       "14    738.429810  \n",
       "15    714.998468  \n",
       "16    748.216798  \n",
       "17    655.245009  \n",
       "18    824.260571  \n",
       "19    951.236559  "
      ]
     },
     "execution_count": 13,
     "metadata": {},
     "output_type": "execute_result"
    }
   ],
   "source": [
    "query_job = client.query(query=query1)\n",
    "df = query_job.to_dataframe()\n",
    "df.head(20)"
   ]
  },
  {
   "cell_type": "markdown",
   "metadata": {},
   "source": [
    "Crear función que nos pille los valores únicos:"
   ]
  },
  {
   "cell_type": "code",
   "execution_count": 14,
   "metadata": {},
   "outputs": [],
   "source": [
    "all = 'ALL'\n",
    "def unique_values_all(array):\n",
    "    unique = array.unique().tolist()\n",
    "    unique.sort()\n",
    "    unique.insert(0, all)\n",
    "    return unique"
   ]
  },
  {
   "cell_type": "code",
   "execution_count": 15,
   "metadata": {},
   "outputs": [
    {
     "data": {
      "text/plain": [
       "['ALL', '', 'female', 'male', 'unknown']"
      ]
     },
     "execution_count": 15,
     "metadata": {},
     "output_type": "execute_result"
    }
   ],
   "source": [
    "unique_values_all(df.gender)"
   ]
  },
  {
   "cell_type": "markdown",
   "metadata": {},
   "source": [
    "Crear dropdown usando la función como argumento"
   ]
  },
  {
   "cell_type": "code",
   "execution_count": 16,
   "metadata": {},
   "outputs": [],
   "source": [
    "dropdown_usertype = widgets.Dropdown(options = unique_values_all(df.usertype))\n",
    "dropdown_gender = widgets.Dropdown(options = unique_values_all(df.gender))"
   ]
  },
  {
   "cell_type": "code",
   "execution_count": 17,
   "metadata": {},
   "outputs": [
    {
     "data": {
      "application/vnd.jupyter.widget-view+json": {
       "model_id": "98e221726d7c4357a604040a922eaba5",
       "version_major": 2,
       "version_minor": 0
      },
      "text/plain": [
       "Dropdown(options=('ALL', '', 'Customer', 'Subscriber'), value='ALL')"
      ]
     },
     "metadata": {},
     "output_type": "display_data"
    }
   ],
   "source": [
    "display(dropdown_usertype)"
   ]
  },
  {
   "cell_type": "markdown",
   "metadata": {},
   "source": [
    "Función que me filtre los datos dependiendo del valor que haya seleccionado en el dropdown"
   ]
  },
  {
   "cell_type": "code",
   "execution_count": 18,
   "metadata": {},
   "outputs": [],
   "source": [
    "my_output = widgets.Output()"
   ]
  },
  {
   "cell_type": "code",
   "execution_count": 19,
   "metadata": {},
   "outputs": [
    {
     "data": {
      "application/vnd.jupyter.widget-view+json": {
       "model_id": "ad60eb8547f049478a9c465c4b859205",
       "version_major": 2,
       "version_minor": 0
      },
      "text/plain": [
       "Dropdown(options=('ALL', '', 'female', 'male', 'unknown'), value='ALL')"
      ]
     },
     "metadata": {},
     "output_type": "display_data"
    },
    {
     "data": {
      "application/vnd.jupyter.widget-view+json": {
       "model_id": "98e221726d7c4357a604040a922eaba5",
       "version_major": 2,
       "version_minor": 0
      },
      "text/plain": [
       "Dropdown(options=('ALL', '', 'Customer', 'Subscriber'), value='ALL')"
      ]
     },
     "metadata": {},
     "output_type": "display_data"
    }
   ],
   "source": [
    "def df_filtering(gender, usertype):\n",
    "    my_output.clear_output()\n",
    "    if (usertype == all) & (gender == all):\n",
    "        df_filtered = df\n",
    "    elif (gender == all):\n",
    "        df_filtered = df[df.usertype == usertype]\n",
    "    elif (usertype == all):\n",
    "        df_filtered = df[df.gender == gender]\n",
    "    else:\n",
    "        df_filtered = df[(df.usertype == usertype) & (df.gender == gender)]\n",
    "    \n",
    "    with my_output:\n",
    "        display(df_filtered)\n",
    "\n",
    "def dropdown_gender_eventhandler(change):\n",
    "    df_filtering(change.new, dropdown_usertype.value)\n",
    "\n",
    "def dropdown_usertype_eventhandler(change):\n",
    "    df_filtering(dropdown_gender.value, change.new)\n",
    "\n",
    "# usamos la función observe, que me pilla los cambios en el botón\n",
    "dropdown_gender.observe(dropdown_gender_eventhandler, names='value')\n",
    "dropdown_usertype.observe(dropdown_usertype_eventhandler, names='value')\n",
    "\n",
    "display(dropdown_gender)\n",
    "display(dropdown_usertype)"
   ]
  },
  {
   "cell_type": "code",
   "execution_count": 20,
   "metadata": {},
   "outputs": [
    {
     "data": {
      "application/vnd.jupyter.widget-view+json": {
       "model_id": "423b8dec2b30472198a33486a261a3aa",
       "version_major": 2,
       "version_minor": 0
      },
      "text/plain": [
       "Output()"
      ]
     },
     "metadata": {},
     "output_type": "display_data"
    }
   ],
   "source": [
    "display(my_output)"
   ]
  },
  {
   "cell_type": "code",
   "execution_count": 21,
   "metadata": {},
   "outputs": [],
   "source": [
    "df_filtering('male',all)"
   ]
  }
 ],
 "metadata": {
  "kernelspec": {
   "display_name": "Python 3",
   "language": "python",
   "name": "python3"
  },
  "language_info": {
   "codemirror_mode": {
    "name": "ipython",
    "version": 3
   },
   "file_extension": ".py",
   "mimetype": "text/x-python",
   "name": "python",
   "nbconvert_exporter": "python",
   "pygments_lexer": "ipython3",
   "version": "3.6.7"
  }
 },
 "nbformat": 4,
 "nbformat_minor": 2
}
