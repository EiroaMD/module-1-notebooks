{
 "cells": [
  {
   "cell_type": "code",
   "execution_count": 12,
   "metadata": {},
   "outputs": [],
   "source": [
    "class Parrot:\n",
    "    # class atribute\n",
    "    species = \"bird\"\n",
    "    \n",
    "    #instance atribute\n",
    "    def __init__(self, name, age):\n",
    "        self.name = name\n",
    "        self.age = age"
   ]
  },
  {
   "cell_type": "code",
   "execution_count": 13,
   "metadata": {},
   "outputs": [],
   "source": [
    "# instantiate the class\n",
    "thor = Parrot(\"Thor\", 10)\n",
    "panchi = Parrot(\"Panchi\", 8)"
   ]
  },
  {
   "cell_type": "code",
   "execution_count": 14,
   "metadata": {},
   "outputs": [
    {
     "name": "stdout",
     "output_type": "stream",
     "text": [
      "Thor is a bird\n",
      "Panchi is also a bird\n"
     ]
    }
   ],
   "source": [
    "# access the class atributes\n",
    "print(\"Thor is a {}\".format(thor.__class__.species))\n",
    "print(\"Panchi is also a {}\".format(panchi.__class__.species))"
   ]
  },
  {
   "cell_type": "code",
   "execution_count": 18,
   "metadata": {},
   "outputs": [
    {
     "name": "stdout",
     "output_type": "stream",
     "text": [
      "Thor is 10 years old\n",
      "Panchi is 8 years old\n"
     ]
    }
   ],
   "source": [
    "#access the instance atrributes\n",
    "print(\"{} is {} years old\".format(thor.name, thor.age))\n",
    "print(\"{} is {} years old\".format(panchi.name, panchi.age))"
   ]
  },
  {
   "cell_type": "code",
   "execution_count": 27,
   "metadata": {},
   "outputs": [],
   "source": [
    "class Parrot:\n",
    "    # class atribute\n",
    "    species = \"bird\"\n",
    "    \n",
    "    #instance attribute\n",
    "    def __init__(self, name, age):\n",
    "        self.name = name\n",
    "        self.age = age\n",
    "    \n",
    "    #instance method:\n",
    "    def sing(self, song):\n",
    "        return(\"{} sings {}\".format(self.name, song))\n",
    "    def dance(self):\n",
    "        return(\"{} is now dancing\".format(self.name))"
   ]
  },
  {
   "cell_type": "code",
   "execution_count": 28,
   "metadata": {},
   "outputs": [],
   "source": [
    "# instantiate the object\n",
    "thor = Parrot(\"Thor\", 10)"
   ]
  },
  {
   "cell_type": "code",
   "execution_count": 30,
   "metadata": {},
   "outputs": [
    {
     "name": "stdout",
     "output_type": "stream",
     "text": [
      "Thor sings 'Happy'\n",
      "Thor is now dancing\n"
     ]
    }
   ],
   "source": [
    "# call our instance methods:\n",
    "print(thor.sing(\"'Happy'\"))\n",
    "print(thor.dance())"
   ]
  },
  {
   "cell_type": "markdown",
   "metadata": {},
   "source": [
    "## Inheritance"
   ]
  },
  {
   "cell_type": "code",
   "execution_count": 42,
   "metadata": {},
   "outputs": [],
   "source": [
    "# Parent class\n",
    "class Bird:\n",
    "    def __init__(self, name):\n",
    "        self.name = name\n",
    "        print(\"Bird is ready\")\n",
    "    def whoisThis(self):\n",
    "        print(\"Bird\")\n",
    "    def swim(self):\n",
    "        print(\"Swim faster!\")\n",
    "\n",
    "# Child class:\n",
    "class Penguin(Bird):\n",
    "    def sleep(self):\n",
    "        print(\"{} wants to sleep\".format(self.name))"
   ]
  },
  {
   "cell_type": "code",
   "execution_count": 47,
   "metadata": {},
   "outputs": [
    {
     "name": "stdout",
     "output_type": "stream",
     "text": [
      "Bird is ready\n",
      "Bird\n",
      "Swim faster!\n",
      "Peggy wants to sleep\n"
     ]
    }
   ],
   "source": [
    "peggy = Penguin(\"Peggy\")\n",
    "peggy.whoisThis()\n",
    "peggy.swim()\n",
    "peggy.sleep()"
   ]
  },
  {
   "cell_type": "markdown",
   "metadata": {},
   "source": [
    "## Task: Create a class car:"
   ]
  },
  {
   "cell_type": "code",
   "execution_count": 77,
   "metadata": {},
   "outputs": [],
   "source": [
    "class Car:\n",
    "    # class attribute:\n",
    "    type = \"car\"\n",
    "    \n",
    "    # instance attribute:\n",
    "    def __init__(self, year, make, max_speed, speed):\n",
    "        self.year = year\n",
    "        self.make = make\n",
    "        self.max_speed = max_speed\n",
    "        self.speed = speed\n",
    "        \n",
    "    #instance methods:\n",
    "    def accelerate(self, increase):\n",
    "        self.speed = self.speed + increase\n",
    "        return (\"The speed is now {} km/h\".format(self.speed))\n",
    "    def brake(self, decrease):\n",
    "        self.speed = self.speed - decrease\n",
    "        return(\"The speed is now {} km/h\".format(self.speed))"
   ]
  },
  {
   "cell_type": "code",
   "execution_count": 78,
   "metadata": {},
   "outputs": [],
   "source": [
    "# instantiate the object\n",
    "golf = Car(2017, \"Volkswagen\", 500, 80)"
   ]
  },
  {
   "cell_type": "code",
   "execution_count": 80,
   "metadata": {},
   "outputs": [
    {
     "name": "stdout",
     "output_type": "stream",
     "text": [
      "The speed is now 95 km/h\n",
      "The speed is now 85 km/h\n"
     ]
    }
   ],
   "source": [
    "print(golf.accelerate(20))\n",
    "print(golf.brake())"
   ]
  }
 ],
 "metadata": {
  "kernelspec": {
   "display_name": "Python 3",
   "language": "python",
   "name": "python3"
  },
  "language_info": {
   "codemirror_mode": {
    "name": "ipython",
    "version": 3
   },
   "file_extension": ".py",
   "mimetype": "text/x-python",
   "name": "python",
   "nbconvert_exporter": "python",
   "pygments_lexer": "ipython3",
   "version": "3.6.7"
  }
 },
 "nbformat": 4,
 "nbformat_minor": 2
}
