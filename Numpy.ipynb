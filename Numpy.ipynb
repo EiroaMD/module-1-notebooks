{
 "cells": [
  {
   "cell_type": "markdown",
   "metadata": {},
   "source": [
    "# Numpy Class Notes"
   ]
  },
  {
   "cell_type": "markdown",
   "metadata": {},
   "source": [
    "Short for Numerical Python.\n",
    "Library used for numerical computing."
   ]
  },
  {
   "cell_type": "markdown",
   "metadata": {},
   "source": [
    "### Import"
   ]
  },
  {
   "cell_type": "code",
   "execution_count": 1,
   "metadata": {},
   "outputs": [],
   "source": [
    "import numpy as np"
   ]
  },
  {
   "cell_type": "markdown",
   "metadata": {},
   "source": [
    "### Numpy Arrays"
   ]
  },
  {
   "cell_type": "markdown",
   "metadata": {},
   "source": [
    "Basic data structures in Numpy: array (list within list)\n",
    "All elements should share type (normally numbers)"
   ]
  },
  {
   "cell_type": "code",
   "execution_count": 3,
   "metadata": {},
   "outputs": [
    {
     "name": "stdout",
     "output_type": "stream",
     "text": [
      "[[0.57031067 0.06495738 0.31092385 0.71475365]\n",
      " [0.62682039 0.93421296 0.93669282 0.50996161]\n",
      " [0.85478742 0.9655422  0.04868485 0.80485552]\n",
      " [0.09692449 0.06010178 0.9521404  0.42814269]\n",
      " [0.60509828 0.79101139 0.20605107 0.71415216]\n",
      " [0.1397359  0.9960845  0.48520073 0.23451147]\n",
      " [0.69921264 0.14458602 0.983885   0.14166349]\n",
      " [0.79070548 0.21344035 0.31826426 0.54329763]\n",
      " [0.35155537 0.4722951  0.4820516  0.84897032]\n",
      " [0.75866268 0.14008545 0.97192889 0.33293434]]\n",
      "(10, 4)\n",
      "40\n"
     ]
    }
   ],
   "source": [
    "a = np.random.random((10,4))\n",
    "print(a)\n",
    "# shape(rowsxnumbers)\n",
    "print(a.shape)\n",
    "# size (number of elements in my array)\n",
    "print(a.size)"
   ]
  },
  {
   "cell_type": "markdown",
   "metadata": {},
   "source": [
    "### Extracting data"
   ]
  },
  {
   "cell_type": "code",
   "execution_count": 8,
   "metadata": {},
   "outputs": [
    {
     "name": "stdout",
     "output_type": "stream",
     "text": [
      "[[[[0.60403388 0.69986042 0.89247018 0.03496133 0.97578418]\n",
      "   [0.24308324 0.34230272 0.77195984 0.50451458 0.91417689]\n",
      "   [0.38323058 0.5981716  0.57024234 0.36985688 0.2116114 ]\n",
      "   [0.94880649 0.58865565 0.85824355 0.5346257  0.82523686]]\n",
      "\n",
      "  [[0.98738265 0.35396934 0.57818828 0.31363266 0.16908366]\n",
      "   [0.80708007 0.16115267 0.4980529  0.71168506 0.71991857]\n",
      "   [0.58662338 0.87872947 0.61821654 0.63835062 0.2469996 ]\n",
      "   [0.61647645 0.05418099 0.79008587 0.59788295 0.77833053]]\n",
      "\n",
      "  [[0.60699694 0.71289357 0.21895577 0.58580031 0.32115232]\n",
      "   [0.19301809 0.29086983 0.56787012 0.50560823 0.12838213]\n",
      "   [0.34994077 0.44251861 0.46143312 0.79072773 0.89712132]\n",
      "   [0.94410756 0.9189956  0.84233655 0.2465726  0.10060109]]]\n",
      "\n",
      "\n",
      " [[[0.38560129 0.64640079 0.34165903 0.56756393 0.37149814]\n",
      "   [0.95827371 0.80104434 0.60172249 0.95266747 0.49943182]\n",
      "   [0.89251519 0.30887276 0.68872999 0.51599623 0.65379065]\n",
      "   [0.13463874 0.98660544 0.41132934 0.87948722 0.68541494]]\n",
      "\n",
      "  [[0.73374164 0.76620601 0.59362465 0.72274746 0.76749394]\n",
      "   [0.58637224 0.71539717 0.87769288 0.11792994 0.0569602 ]\n",
      "   [0.2973314  0.72843003 0.57424425 0.8562554  0.68669273]\n",
      "   [0.54368668 0.32830371 0.8613409  0.65853205 0.2403509 ]]\n",
      "\n",
      "  [[0.87814439 0.23645859 0.18809036 0.21775793 0.5282347 ]\n",
      "   [0.89069961 0.72722058 0.47299529 0.34327269 0.37005292]\n",
      "   [0.69027851 0.15149186 0.54723939 0.0098263  0.70609164]\n",
      "   [0.39563639 0.85919443 0.21902216 0.66937361 0.4569993 ]]]]\n",
      "-+-+-+-+-\n",
      "[[[0.60403388 0.69986042 0.89247018 0.03496133 0.97578418]\n",
      "  [0.24308324 0.34230272 0.77195984 0.50451458 0.91417689]\n",
      "  [0.38323058 0.5981716  0.57024234 0.36985688 0.2116114 ]\n",
      "  [0.94880649 0.58865565 0.85824355 0.5346257  0.82523686]]\n",
      "\n",
      " [[0.98738265 0.35396934 0.57818828 0.31363266 0.16908366]\n",
      "  [0.80708007 0.16115267 0.4980529  0.71168506 0.71991857]\n",
      "  [0.58662338 0.87872947 0.61821654 0.63835062 0.2469996 ]\n",
      "  [0.61647645 0.05418099 0.79008587 0.59788295 0.77833053]]\n",
      "\n",
      " [[0.60699694 0.71289357 0.21895577 0.58580031 0.32115232]\n",
      "  [0.19301809 0.29086983 0.56787012 0.50560823 0.12838213]\n",
      "  [0.34994077 0.44251861 0.46143312 0.79072773 0.89712132]\n",
      "  [0.94410756 0.9189956  0.84233655 0.2465726  0.10060109]]]\n"
     ]
    }
   ],
   "source": [
    "# Create an array with two groups of three 4x5 matrices\n",
    "c = np.random.random((2,3,4,5))\n",
    "print(c)"
   ]
  },
  {
   "cell_type": "markdown",
   "metadata": {},
   "source": [
    "First group of array c:"
   ]
  },
  {
   "cell_type": "code",
   "execution_count": 9,
   "metadata": {},
   "outputs": [
    {
     "name": "stdout",
     "output_type": "stream",
     "text": [
      "[[[0.60403388 0.69986042 0.89247018 0.03496133 0.97578418]\n",
      "  [0.24308324 0.34230272 0.77195984 0.50451458 0.91417689]\n",
      "  [0.38323058 0.5981716  0.57024234 0.36985688 0.2116114 ]\n",
      "  [0.94880649 0.58865565 0.85824355 0.5346257  0.82523686]]\n",
      "\n",
      " [[0.98738265 0.35396934 0.57818828 0.31363266 0.16908366]\n",
      "  [0.80708007 0.16115267 0.4980529  0.71168506 0.71991857]\n",
      "  [0.58662338 0.87872947 0.61821654 0.63835062 0.2469996 ]\n",
      "  [0.61647645 0.05418099 0.79008587 0.59788295 0.77833053]]\n",
      "\n",
      " [[0.60699694 0.71289357 0.21895577 0.58580031 0.32115232]\n",
      "  [0.19301809 0.29086983 0.56787012 0.50560823 0.12838213]\n",
      "  [0.34994077 0.44251861 0.46143312 0.79072773 0.89712132]\n",
      "  [0.94410756 0.9189956  0.84233655 0.2465726  0.10060109]]]\n"
     ]
    }
   ],
   "source": [
    "print(c[0])"
   ]
  },
  {
   "cell_type": "markdown",
   "metadata": {},
   "source": [
    "Second subgroup of the first group:"
   ]
  },
  {
   "cell_type": "code",
   "execution_count": 10,
   "metadata": {},
   "outputs": [
    {
     "name": "stdout",
     "output_type": "stream",
     "text": [
      "[[0.98738265 0.35396934 0.57818828 0.31363266 0.16908366]\n",
      " [0.80708007 0.16115267 0.4980529  0.71168506 0.71991857]\n",
      " [0.58662338 0.87872947 0.61821654 0.63835062 0.2469996 ]\n",
      " [0.61647645 0.05418099 0.79008587 0.59788295 0.77833053]]\n"
     ]
    }
   ],
   "source": [
    "print(c[0,1])"
   ]
  },
  {
   "cell_type": "markdown",
   "metadata": {},
   "source": [
    "Fourth column of the second subgroup:"
   ]
  },
  {
   "cell_type": "code",
   "execution_count": 11,
   "metadata": {},
   "outputs": [
    {
     "name": "stdout",
     "output_type": "stream",
     "text": [
      "[0.31363266 0.71168506 0.63835062 0.59788295]\n"
     ]
    }
   ],
   "source": [
    "print(c[0,1,:,3])"
   ]
  },
  {
   "cell_type": "markdown",
   "metadata": {},
   "source": [
    "### Convert data structures to arrays"
   ]
  },
  {
   "cell_type": "code",
   "execution_count": 12,
   "metadata": {},
   "outputs": [
    {
     "name": "stdout",
     "output_type": "stream",
     "text": [
      "[[1 2 3]\n",
      " [4 5 6]\n",
      " [7 8 9]]\n"
     ]
    }
   ],
   "source": [
    "lst_lst = [[1,2,3],[4,5,6],[7,8,9]]\n",
    "d = np.array(lst_lst)\n",
    "print(d)"
   ]
  },
  {
   "cell_type": "markdown",
   "metadata": {},
   "source": [
    "### Math Functions"
   ]
  },
  {
   "cell_type": "markdown",
   "metadata": {},
   "source": [
    "Sum of all elements in matrix a:"
   ]
  },
  {
   "cell_type": "code",
   "execution_count": 13,
   "metadata": {},
   "outputs": [
    {
     "name": "stdout",
     "output_type": "stream",
     "text": [
      "21.245196852526007\n"
     ]
    }
   ],
   "source": [
    "print(np.sum(a))"
   ]
  },
  {
   "cell_type": "markdown",
   "metadata": {},
   "source": [
    "Sum of each row in matrix a:\n",
    "(axis = 0 for columns)"
   ]
  },
  {
   "cell_type": "code",
   "execution_count": 14,
   "metadata": {},
   "outputs": [
    {
     "name": "stdout",
     "output_type": "stream",
     "text": [
      "[1.66094556 3.00768778 2.67387    1.53730937 2.31631291 1.85553261\n",
      " 1.96934715 1.86570772 2.1548724  2.20361136]\n"
     ]
    }
   ],
   "source": [
    "print(np.sum(a, axis=1))"
   ]
  },
  {
   "cell_type": "markdown",
   "metadata": {},
   "source": [
    "Subtract elements of x from elements of y:"
   ]
  },
  {
   "cell_type": "code",
   "execution_count": 15,
   "metadata": {},
   "outputs": [
    {
     "ename": "NameError",
     "evalue": "name 'y' is not defined",
     "output_type": "error",
     "traceback": [
      "\u001b[0;31m---------------------------------------------------------------------------\u001b[0m",
      "\u001b[0;31mNameError\u001b[0m                                 Traceback (most recent call last)",
      "\u001b[0;32m<ipython-input-15-dd72afa8a159>\u001b[0m in \u001b[0;36m<module>\u001b[0;34m\u001b[0m\n\u001b[0;32m----> 1\u001b[0;31m \u001b[0mprint\u001b[0m\u001b[0;34m(\u001b[0m\u001b[0mnp\u001b[0m\u001b[0;34m.\u001b[0m\u001b[0msubtract\u001b[0m\u001b[0;34m(\u001b[0m\u001b[0my\u001b[0m\u001b[0;34m,\u001b[0m\u001b[0mx\u001b[0m\u001b[0;34m)\u001b[0m\u001b[0;34m)\u001b[0m\u001b[0;34m\u001b[0m\u001b[0;34m\u001b[0m\u001b[0m\n\u001b[0m",
      "\u001b[0;31mNameError\u001b[0m: name 'y' is not defined"
     ]
    }
   ],
   "source": [
    "print(np.subtract(y,x))"
   ]
  },
  {
   "cell_type": "markdown",
   "metadata": {},
   "source": [
    "## Code along"
   ]
  },
  {
   "cell_type": "code",
   "execution_count": null,
   "metadata": {},
   "outputs": [],
   "source": [
    "import numpy as np"
   ]
  },
  {
   "cell_type": "code",
   "execution_count": 22,
   "metadata": {},
   "outputs": [],
   "source": [
    "numbers = [1,2,3,4,5]"
   ]
  },
  {
   "cell_type": "code",
   "execution_count": 31,
   "metadata": {},
   "outputs": [],
   "source": [
    "def sumint(x):\n",
    "    tot = 0\n",
    "    for i in x:\n",
    "        if type(i) == int:\n",
    "            tot += i\n",
    "        else:\n",
    "            return \"Error: at least one element of the list is not an integer\"\n",
    "    return tot"
   ]
  },
  {
   "cell_type": "code",
   "execution_count": 32,
   "metadata": {},
   "outputs": [
    {
     "data": {
      "text/plain": [
       "15"
      ]
     },
     "execution_count": 32,
     "metadata": {},
     "output_type": "execute_result"
    }
   ],
   "source": [
    "sumint(numbers)"
   ]
  },
  {
   "cell_type": "markdown",
   "metadata": {},
   "source": [
    "Convert into an array:"
   ]
  },
  {
   "cell_type": "code",
   "execution_count": 34,
   "metadata": {},
   "outputs": [],
   "source": [
    "a = np.array(numbers)"
   ]
  },
  {
   "cell_type": "code",
   "execution_count": 35,
   "metadata": {},
   "outputs": [
    {
     "data": {
      "text/plain": [
       "1"
      ]
     },
     "execution_count": 35,
     "metadata": {},
     "output_type": "execute_result"
    }
   ],
   "source": [
    "a[0]"
   ]
  },
  {
   "cell_type": "markdown",
   "metadata": {},
   "source": [
    "Shape:"
   ]
  },
  {
   "cell_type": "code",
   "execution_count": 37,
   "metadata": {},
   "outputs": [
    {
     "data": {
      "text/plain": [
       "(5,)"
      ]
     },
     "execution_count": 37,
     "metadata": {},
     "output_type": "execute_result"
    }
   ],
   "source": [
    "np.shape(a)\n",
    "# Me va devolver 5 de una sola dimensión"
   ]
  },
  {
   "cell_type": "markdown",
   "metadata": {},
   "source": [
    "Suma:"
   ]
  },
  {
   "cell_type": "code",
   "execution_count": 38,
   "metadata": {},
   "outputs": [
    {
     "data": {
      "text/plain": [
       "15"
      ]
     },
     "execution_count": 38,
     "metadata": {},
     "output_type": "execute_result"
    }
   ],
   "source": [
    "np.sum(a)"
   ]
  },
  {
   "cell_type": "markdown",
   "metadata": {},
   "source": [
    "Create a two dimension array:"
   ]
  },
  {
   "cell_type": "code",
   "execution_count": 40,
   "metadata": {},
   "outputs": [],
   "source": [
    "b = np.array([[1,2,3], [4,5,6]])"
   ]
  },
  {
   "cell_type": "markdown",
   "metadata": {},
   "source": [
    "Print shape and experiments:"
   ]
  },
  {
   "cell_type": "code",
   "execution_count": 41,
   "metadata": {},
   "outputs": [
    {
     "name": "stdout",
     "output_type": "stream",
     "text": [
      "(2, 3)\n",
      "(2, 3)\n"
     ]
    }
   ],
   "source": [
    "print(np.shape(b))\n",
    "print(b.shape)"
   ]
  },
  {
   "cell_type": "code",
   "execution_count": 42,
   "metadata": {},
   "outputs": [
    {
     "name": "stdout",
     "output_type": "stream",
     "text": [
      "1 4 6\n"
     ]
    }
   ],
   "source": [
    "print(b[0,0], b[1,0], b[1,2])"
   ]
  },
  {
   "cell_type": "markdown",
   "metadata": {},
   "source": [
    "Crear función para convertir lista en array y sumarla:"
   ]
  },
  {
   "cell_type": "code",
   "execution_count": 68,
   "metadata": {},
   "outputs": [],
   "source": [
    "def sumarr(lst):\n",
    "    l_t_a = np.array(lst)\n",
    "    return np.sum(l_t_a)"
   ]
  },
  {
   "cell_type": "code",
   "execution_count": 47,
   "metadata": {},
   "outputs": [],
   "source": [
    "def sumarr(lst):\n",
    "    return np.array(lst).sum()"
   ]
  },
  {
   "cell_type": "markdown",
   "metadata": {},
   "source": [
    "Escribir la función para que nos haga la operación que le metamos en el segundo parámetro"
   ]
  },
  {
   "cell_type": "code",
   "execution_count": 60,
   "metadata": {},
   "outputs": [],
   "source": [
    "def calculator(lst, operation):\n",
    "    result = operation(np.array(lst))\n",
    "    return result"
   ]
  },
  {
   "cell_type": "code",
   "execution_count": 65,
   "metadata": {},
   "outputs": [
    {
     "data": {
      "text/plain": [
       "2.6666666666666665"
      ]
     },
     "execution_count": 65,
     "metadata": {},
     "output_type": "execute_result"
    }
   ],
   "source": [
    "calculator([3,2,3], np.mean)"
   ]
  },
  {
   "cell_type": "markdown",
   "metadata": {},
   "source": [
    "Define a matrix as a list then convert to array:"
   ]
  },
  {
   "cell_type": "code",
   "execution_count": 67,
   "metadata": {},
   "outputs": [],
   "source": [
    "mat = [[1,2,3], [4,5,6], [8,9,7]]"
   ]
  },
  {
   "cell_type": "code",
   "execution_count": 72,
   "metadata": {},
   "outputs": [],
   "source": [
    "mat = np.array(mat)"
   ]
  },
  {
   "cell_type": "markdown",
   "metadata": {},
   "source": [
    "Definde a random matrix:"
   ]
  },
  {
   "cell_type": "code",
   "execution_count": 74,
   "metadata": {},
   "outputs": [
    {
     "name": "stdout",
     "output_type": "stream",
     "text": [
      "[[0.21665698 0.82140839 0.09101733]\n",
      " [0.32865586 0.68954443 0.50711621]\n",
      " [0.60789242 0.30984503 0.7409645 ]]\n"
     ]
    }
   ],
   "source": [
    "random_mat = np.random.random((3,3))\n",
    "print(random_mat)"
   ]
  },
  {
   "cell_type": "markdown",
   "metadata": {},
   "source": [
    "Sum all matrix and then only rows and only columns:"
   ]
  },
  {
   "cell_type": "code",
   "execution_count": 75,
   "metadata": {},
   "outputs": [
    {
     "data": {
      "text/plain": [
       "4.31310113616513"
      ]
     },
     "execution_count": 75,
     "metadata": {},
     "output_type": "execute_result"
    }
   ],
   "source": [
    "random_mat.sum()"
   ]
  },
  {
   "cell_type": "code",
   "execution_count": 76,
   "metadata": {},
   "outputs": [
    {
     "data": {
      "text/plain": [
       "array([1.15320525, 1.82079785, 1.33909804])"
      ]
     },
     "execution_count": 76,
     "metadata": {},
     "output_type": "execute_result"
    }
   ],
   "source": [
    "random_mat.sum(axis=0)"
   ]
  },
  {
   "cell_type": "code",
   "execution_count": 77,
   "metadata": {},
   "outputs": [
    {
     "data": {
      "text/plain": [
       "array([1.1290827 , 1.5253165 , 1.65870194])"
      ]
     },
     "execution_count": 77,
     "metadata": {},
     "output_type": "execute_result"
    }
   ],
   "source": [
    "random_mat.sum(axis=1)"
   ]
  },
  {
   "cell_type": "code",
   "execution_count": 78,
   "metadata": {},
   "outputs": [],
   "source": [
    "#Esto lo podemos hacer para todas las funciones"
   ]
  },
  {
   "cell_type": "markdown",
   "metadata": {},
   "source": [
    "Create empty matrix:"
   ]
  },
  {
   "cell_type": "code",
   "execution_count": 81,
   "metadata": {},
   "outputs": [
    {
     "name": "stdout",
     "output_type": "stream",
     "text": [
      "[[0. 0. 0.]\n",
      " [0. 0. 0.]]\n"
     ]
    }
   ],
   "source": [
    "a = np.zeros((2,3))\n",
    "print(a)"
   ]
  },
  {
   "cell_type": "code",
   "execution_count": 82,
   "metadata": {},
   "outputs": [
    {
     "name": "stdout",
     "output_type": "stream",
     "text": [
      "[[1. 1. 1.]\n",
      " [1. 1. 1.]]\n"
     ]
    }
   ],
   "source": [
    "a = np.ones((2,3))\n",
    "print(a)"
   ]
  },
  {
   "cell_type": "code",
   "execution_count": 83,
   "metadata": {},
   "outputs": [
    {
     "name": "stdout",
     "output_type": "stream",
     "text": [
      "[[1 1 1]\n",
      " [1 1 1]]\n"
     ]
    }
   ],
   "source": [
    "a = np.ones((2,3), dtype=int)\n",
    "print(a)"
   ]
  },
  {
   "cell_type": "markdown",
   "metadata": {},
   "source": [
    "Create an array with a fixed basal number other than one or zero:"
   ]
  },
  {
   "cell_type": "code",
   "execution_count": 85,
   "metadata": {},
   "outputs": [
    {
     "name": "stdout",
     "output_type": "stream",
     "text": [
      "[[7 7 7]\n",
      " [7 7 7]]\n"
     ]
    }
   ],
   "source": [
    "c = np.full((2,3),7)\n",
    "print(c)"
   ]
  },
  {
   "cell_type": "markdown",
   "metadata": {},
   "source": [
    "Create identity(mirror) matrix:"
   ]
  },
  {
   "cell_type": "code",
   "execution_count": 87,
   "metadata": {},
   "outputs": [
    {
     "name": "stdout",
     "output_type": "stream",
     "text": [
      "[[1 0]\n",
      " [0 1]]\n"
     ]
    }
   ],
   "source": [
    "d = np.eye(2, dtype=int)\n",
    "print(d)"
   ]
  },
  {
   "cell_type": "markdown",
   "metadata": {},
   "source": [
    "Create and array 3x4 two dim array:"
   ]
  },
  {
   "cell_type": "code",
   "execution_count": 90,
   "metadata": {},
   "outputs": [
    {
     "name": "stdout",
     "output_type": "stream",
     "text": [
      "[[0.24813483 0.22549941 0.09902239 0.05449997]\n",
      " [0.54730716 0.001805   0.34492737 0.90144305]\n",
      " [0.21094108 0.53361726 0.07930484 0.36503926]]\n"
     ]
    }
   ],
   "source": [
    "c = np.random.random((3,4))\n",
    "print(c)"
   ]
  },
  {
   "cell_type": "markdown",
   "metadata": {},
   "source": [
    "new array with cols 1 and 2 from row 1 and 2:"
   ]
  },
  {
   "cell_type": "code",
   "execution_count": 94,
   "metadata": {},
   "outputs": [
    {
     "name": "stdout",
     "output_type": "stream",
     "text": [
      "[[0.24813483 0.22549941]\n",
      " [0.54730716 0.001805  ]]\n"
     ]
    }
   ],
   "source": [
    "b = c[:2,:2]\n",
    "print(b)"
   ]
  },
  {
   "cell_type": "markdown",
   "metadata": {},
   "source": [
    "Two 3x3 matrices then sum them"
   ]
  },
  {
   "cell_type": "code",
   "execution_count": 107,
   "metadata": {},
   "outputs": [
    {
     "data": {
      "text/plain": [
       "array([[0.39188213, 0.58007983, 0.72423317],\n",
       "       [0.65330332, 0.5559283 , 0.05179208],\n",
       "       [0.94382402, 0.35989848, 0.1365209 ]])"
      ]
     },
     "execution_count": 107,
     "metadata": {},
     "output_type": "execute_result"
    }
   ],
   "source": [
    "mat1 = np.random.random((3,3))\n",
    "mat2 = np.random.random((3,3))\n",
    "mat1\n",
    "mat2"
   ]
  },
  {
   "cell_type": "code",
   "execution_count": 111,
   "metadata": {},
   "outputs": [
    {
     "data": {
      "text/plain": [
       "array([[1.36839946, 0.88869789, 0.87637121],\n",
       "       [0.8998228 , 1.36761378, 0.62291751],\n",
       "       [1.00005666, 0.69758261, 0.50886893]])"
      ]
     },
     "execution_count": 111,
     "metadata": {},
     "output_type": "execute_result"
    }
   ],
   "source": [
    "np.add(mat1,mat2) \n",
    "# Se usa ADD para usar dos matrices elementwise"
   ]
  },
  {
   "cell_type": "code",
   "execution_count": 112,
   "metadata": {},
   "outputs": [
    {
     "data": {
      "text/plain": [
       "array([[ 0.58463519, -0.27146178, -0.57209514],\n",
       "       [-0.40678384,  0.25575719,  0.51933334],\n",
       "       [-0.88759137, -0.02221435,  0.23582713]])"
      ]
     },
     "execution_count": 112,
     "metadata": {},
     "output_type": "execute_result"
    }
   ],
   "source": [
    "np.subtract(mat1,mat2)"
   ]
  },
  {
   "cell_type": "code",
   "execution_count": 113,
   "metadata": {},
   "outputs": [
    {
     "data": {
      "text/plain": [
       "array([[ 2.49186487,  0.53202687,  0.21006776],\n",
       "       [ 0.37734307,  1.46005427, 11.02727316],\n",
       "       [ 0.05957959,  0.93827607,  2.72740671]])"
      ]
     },
     "execution_count": 113,
     "metadata": {},
     "output_type": "execute_result"
    }
   ],
   "source": [
    "np.divide(mat1,mat2)"
   ]
  },
  {
   "cell_type": "code",
   "execution_count": 114,
   "metadata": {},
   "outputs": [
    {
     "data": {
      "text/plain": [
       "array([[0.38267969, 0.17902311, 0.11018341],\n",
       "       [0.161052  , 0.45123893, 0.02957977],\n",
       "       [0.05307372, 0.121532  , 0.05083329]])"
      ]
     },
     "execution_count": 114,
     "metadata": {},
     "output_type": "execute_result"
    }
   ],
   "source": [
    "np.multiply(mat1,mat2)"
   ]
  }
 ],
 "metadata": {
  "kernelspec": {
   "display_name": "Python 3",
   "language": "python",
   "name": "python3"
  },
  "language_info": {
   "codemirror_mode": {
    "name": "ipython",
    "version": 3
   },
   "file_extension": ".py",
   "mimetype": "text/x-python",
   "name": "python",
   "nbconvert_exporter": "python",
   "pygments_lexer": "ipython3",
   "version": "3.6.7"
  }
 },
 "nbformat": 4,
 "nbformat_minor": 2
}
