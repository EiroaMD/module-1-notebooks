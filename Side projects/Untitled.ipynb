{
 "cells": [
  {
   "cell_type": "code",
   "execution_count": 4,
   "metadata": {},
   "outputs": [],
   "source": [
    "def module_install(mod):\n",
    "    modlst = []\n",
    "    modlst.append(mod)\n",
    "    for i in modlst:\n",
    "        try:\n",
    "            import mod\n",
    "        except ImportError:\n",
    "            if input(\"Modules not installed in your system. Do you want to install them? [Y/N]\") == \"Y\"|\"y\":\n",
    "                import sys\n",
    "                !{sys.executable} -m pip install mod\n",
    "            elif input(\"Modules not installed in your system. Do you want to install them? [Y/N]\") == \"N\":\n",
    "                pass\n",
    "            else:\n",
    "                input(\"Modules not installed in your system. Do you want to install them? [Y/N]\")           "
   ]
  },
  {
   "cell_type": "code",
   "execution_count": 10,
   "metadata": {},
   "outputs": [
    {
     "name": "stdout",
     "output_type": "stream",
     "text": [
      "('Module', 'pandas', 'not installed in your system. Do you want to install them? [Y/N]')Y\n",
      "Collecting mod\n",
      "  Downloading https://files.pythonhosted.org/packages/c9/83/47b13b015c738effd19c076397f47e83958adee99396702d029ea9c7a522/mod-0.2.4-py3-none-any.whl\n",
      "Installing collected packages: mod\n",
      "Successfully installed mod-0.2.4\n",
      "('Module', 'numpy', 'not installed in your system. Do you want to install them? [Y/N]')l\n",
      "Modules not installed in your system. Do you want to install them? [Y/N]Y\n",
      "Modules not installed in your system. Do you want to install them? [Y/N]Y\n",
      "('Module', 'pillow', 'not installed in your system. Do you want to install them? [Y/N]')Y\n",
      "Collecting mod\n",
      "  Using cached https://files.pythonhosted.org/packages/c9/83/47b13b015c738effd19c076397f47e83958adee99396702d029ea9c7a522/mod-0.2.4-py3-none-any.whl\n",
      "Installing collected packages: mod\n",
      "Successfully installed mod-0.2.4\n"
     ]
    }
   ],
   "source": []
  },
  {
   "cell_type": "code",
   "execution_count": 12,
   "metadata": {},
   "outputs": [],
   "source": [
    "import sys"
   ]
  },
  {
   "cell_type": "code",
   "execution_count": 14,
   "metadata": {},
   "outputs": [
    {
     "ename": "SyntaxError",
     "evalue": "invalid syntax (<ipython-input-14-fd85f64a257a>, line 1)",
     "output_type": "error",
     "traceback": [
      "\u001b[0;36m  File \u001b[0;32m\"<ipython-input-14-fd85f64a257a>\"\u001b[0;36m, line \u001b[0;32m1\u001b[0m\n\u001b[0;31m    import \"pandas\"\u001b[0m\n\u001b[0m                  ^\u001b[0m\n\u001b[0;31mSyntaxError\u001b[0m\u001b[0;31m:\u001b[0m invalid syntax\n"
     ]
    }
   ],
   "source": [
    "import \"pandas\""
   ]
  }
 ],
 "metadata": {
  "kernelspec": {
   "display_name": "Python 3",
   "language": "python",
   "name": "python3"
  },
  "language_info": {
   "codemirror_mode": {
    "name": "ipython",
    "version": 3
   },
   "file_extension": ".py",
   "mimetype": "text/x-python",
   "name": "python",
   "nbconvert_exporter": "python",
   "pygments_lexer": "ipython3",
   "version": "3.6.7"
  }
 },
 "nbformat": 4,
 "nbformat_minor": 2
}
